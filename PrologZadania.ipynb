{
  "nbformat": 4,
  "nbformat_minor": 0,
  "metadata": {
    "colab": {
      "provenance": [],
      "include_colab_link": true
    },
    "kernelspec": {
      "name": "python3",
      "display_name": "Python 3"
    },
    "language_info": {
      "name": "python"
    }
  },
  "cells": [
    {
      "cell_type": "markdown",
      "metadata": {
        "id": "view-in-github",
        "colab_type": "text"
      },
      "source": [
        "<a href=\"https://colab.research.google.com/github/TytusKT/Chatteria/blob/main/PrologZadania.ipynb\" target=\"_parent\"><img src=\"https://colab.research.google.com/assets/colab-badge.svg\" alt=\"Open In Colab\"/></a>"
      ]
    },
    {
      "cell_type": "markdown",
      "source": [
        "**Zad.1**\n",
        "Wiedząc, że Stefan jest ojcem Romana i Henryka, Roman ma synów: Mariana i Marka, a Henryk\n",
        "synów: Adama i Jana, napisz fakty ojciec(a,b) oraz reguły dziadek (X,Y), wój(X,Y), kuzyn(X,Y),\n",
        "syn(X,Y) bazujące na faktach ojciec(X,Y)"
      ],
      "metadata": {
        "id": "-lli1E95IvUg"
      }
    },
    {
      "cell_type": "code",
      "source": [
        "fakty = {\n",
        "    'ojciec': [\n",
        "        ('Stefan', 'Roman'),\n",
        "        ('Stefan', 'Henryk'),\n",
        "        ('Roman', 'Marian'),\n",
        "        ('Roman', 'Marek'),\n",
        "        ('Henryk', 'Adam'),\n",
        "        ('Henryk', 'Jan')\n",
        "    ]\n",
        "}\n",
        "\n",
        "\n",
        "def czy_jest_ojcem(osoba1, osoba2):\n",
        "    return (osoba1, osoba2) in fakty.get('ojciec', [])\n",
        "\n",
        "def czy_jest_dziadkiem(dziadek, wnuk):\n",
        "    rodzice = [osoba2 for osoba1, osoba2 in fakty.get('ojciec', []) if osoba1 == dziadek]\n",
        "    for rodzic in rodzice:\n",
        "        if czy_jest_ojcem(rodzic, wnuk):\n",
        "            return True\n",
        "    return False\n",
        "\n",
        "def czy_jest_kuzynem(osoba1, osoba2):\n",
        "    rodzic_osoba1 = None\n",
        "    rodzic_osoba2 = None\n",
        "    for ojciec, dziecko in fakty['ojciec']:\n",
        "        if dziecko == osoba1:\n",
        "            rodzic_osoba1 = ojciec\n",
        "        if dziecko == osoba2:\n",
        "            rodzic_osoba2 = ojciec\n",
        "    if rodzic_osoba1 is None or rodzic_osoba2 is None:\n",
        "        return False\n",
        "\n",
        "    dziadek_osoba1 = None\n",
        "    dziadek_osoba2 = None\n",
        "    for ojciec, dziecko in fakty['ojciec']:\n",
        "        if dziecko == rodzic_osoba1:\n",
        "            dziadek_osoba1 = ojciec\n",
        "        if dziecko == rodzic_osoba2:\n",
        "            dziadek_osoba2 = ojciec\n",
        "    if dziadek_osoba1 is None or dziadek_osoba2 is None:\n",
        "        return False\n",
        "\n",
        "    return dziadek_osoba1 == dziadek_osoba2 and rodzic_osoba1 != rodzic_osoba2\n",
        "\n",
        "\n",
        "def czy_jest_wujkiem(wuj, dziecko):\n",
        "    rodzic_dziecka = None\n",
        "    for ojciec, dziecko_fakt in fakty['ojciec']:\n",
        "        if dziecko_fakt == dziecko:\n",
        "            rodzic_dziecka = ojciec\n",
        "            break\n",
        "    if rodzic_dziecka is None:\n",
        "        return False\n",
        "\n",
        "    for ojciec, potencjalny_wujek in fakty['ojciec']:\n",
        "        if ojciec == rodzic_dziecka and potencjalny_wujek != dziecko and potencjalny_wujek == wuj:\n",
        "           return True\n",
        "\n",
        "        for dziadek, syn in fakty['ojciec']:\n",
        "            if (syn == rodzic_dziecka and dziadek == ojciec and potencjalny_wujek != dziecko and potencjalny_wujek == wuj) or (syn == potencjalny_wujek and dziadek == ojciec and potencjalny_wujek != dziecko and potencjalny_wujek == wuj) :\n",
        "                return True\n",
        "                return False\n",
        "\n",
        "\n",
        "def czy_jest_synem(syn, rodzic):\n",
        "    return (rodzic, syn) in fakty.get('ojciec', [])\n",
        "\n",
        "\n",
        "print(czy_jest_ojcem('Stefan', 'Roman'))  # True\n",
        "print(czy_jest_dziadkiem('Stefan', 'Adam'))  # True\n",
        "print(czy_jest_wujkiem('Roman', 'Adam'))  # True\n",
        "print(czy_jest_kuzynem('Adam', 'Marian'))  # True\n",
        "print(czy_jest_synem('Roman', 'Stefan'))  # True"
      ],
      "metadata": {
        "id": "LlM3UBK8Iz37",
        "colab": {
          "base_uri": "https://localhost:8080/"
        },
        "outputId": "c66b9976-a57a-482d-a569-d25276a4e80e"
      },
      "execution_count": 33,
      "outputs": [
        {
          "output_type": "stream",
          "name": "stdout",
          "text": [
            "True\n",
            "True\n",
            "True\n",
            "True\n",
            "True\n"
          ]
        }
      ]
    }
  ]
}