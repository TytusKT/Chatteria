{
  "nbformat": 4,
  "nbformat_minor": 0,
  "metadata": {
    "colab": {
      "provenance": [],
      "include_colab_link": true
    },
    "kernelspec": {
      "name": "python3",
      "display_name": "Python 3"
    },
    "language_info": {
      "name": "python"
    }
  },
  "cells": [
    {
      "cell_type": "markdown",
      "metadata": {
        "id": "view-in-github",
        "colab_type": "text"
      },
      "source": [
        "<a href=\"https://colab.research.google.com/github/TytusKT/Chatteria/blob/main/PSILAB.ipynb\" target=\"_parent\"><img src=\"https://colab.research.google.com/assets/colab-badge.svg\" alt=\"Open In Colab\"/></a>"
      ]
    },
    {
      "cell_type": "markdown",
      "source": [],
      "metadata": {
        "id": "Nr8U2h_HG2vu"
      }
    },
    {
      "cell_type": "markdown",
      "source": [
        "#**ZAD 1.** **Które z następujących zadań wymagają w Twojej opinii inteligencji od człowieka:**\n",
        "* wypełnianie deklaracji PIT,\\\n",
        "Zadanie te nie wymaga specyficznych zdolnosci, sztuczna inteligencja może posidać znajomość przepisów podatkowych.\n",
        "* streszczanie tekstu,\\\n",
        "Sztuczna inteligencja z łatwością napisze streszczenie tekstu, wykorzystując zaprogramowane schematy.\n",
        "* tłumaczenie tekstu,\\\n",
        "Sztuczna inteligencja na pewnym poziomie w sposób zrozumiły tłumaczy teksty.\n",
        "* klasyfikacja tekstu do kategorii tematycznych,\\\n",
        "Sztuczna inteligencja rozpozna na podstawie tekstu jej tematyczność.\n",
        "* odpowiadanie na proste pytania zadawane w języku naturalnym (np. polskim),\\\n",
        "Sztuczna inteligencja potrafi odpowiadac na pytania zadawane w języku naturalnym.\n",
        "* ***układanie rozkładu jazdy transportu miejskiego,***\\\n",
        "Ukladanie rozkladu jazdy wymaga ingerencji inteligencji czlowieka, pownieważ przy ukladaniu takiego planu brane są pod uwagę sytuację wyjątkowe, nieprzewidywalne, które tylko człowiek może uwzględnić.\n",
        "* programowanie (pisanie programów komputerowych),\\\n",
        "Zadanie to wymaga człowieka do myślenia logicznego i wysokiej kreatywności by projektować algorytmy.\n",
        "* „programowanie” kanałów telewizyjnych,\\\n",
        "Zadanie to może być wykonane przez sztuczną inteligencje, poniewaz wymagane jest podstawowoe zrozumienie systemu.\n",
        "* testowanie oprogramowania,\\\n",
        "Do tego zadania jest potrzebny człowiek, ponieważ sprawdza sie funkcjionowanie systemu w nietypowych warunkach.\n",
        "* komponowanie muzyki,\\\n",
        "Na podstawowym poziomie sztuczna inteligencja potrafi wykonać utwór muzyczny, lecz będzie brakować w nim angażu emocjalnego oraz kreatywności.\n",
        "* rozwiązywanie układów równań,\\\n",
        "Sztuczna inteligencja rozwiaże układy równań, dzieki użyciu algorytmów.\n",
        "* symboliczne obliczanie pochodnych funkcji,\\\n",
        "Zadania matematyczne sztuczna inteligencja potafi rozwiązywać z dużą skutecznością.\n",
        "* symboliczne całkowanie funkcji,\\\n",
        "Jest to zadanie, które sztuczna inteligencja wykonuje bardzo dobrze\n",
        "* ***kierowanie samochodem,***\\\n",
        "Kierowanie samochodem wymaga szybkiej reakcji i decydyjności, z którą sztuczna inteligencja by sobie nie poradziła.\n",
        "#**ZAD 2.** **Które z następujących problemów można uznać za mieszczące się w zakresie sztucznej inteligencji:**\n",
        "* ***streszczanie tekstu,***\\\n",
        "AI potrafi generować streszczenia z różną jakością w zależności od złożoności tekstu.\n",
        "* ***tłumaczenie tekstu,***\\\n",
        "AI radzi sobie z tłumaczeniami technicznymi i prostymi tekstami, choć bardziej złożone tłumaczenia wymagają czasem interwencji człowieka.\n",
        "* klasyfikacja tekstu do kategorii tematycznych,\\\n",
        "Ai potrafi analizować tekst i sklasyfikować, do której grupy tematycznej należy.\n",
        "* ***odpowiadanie na proste pytania zadawane w języku naturalnym,***\\\n",
        "AI jest zdolna do tego dzięki modelom językowym, takim jak GPT.\n",
        "* ***rozwiązywanie układów równań,***\\\n",
        "Algorytmy sztucznej inteligencji mogą rozwiązywać zarówno proste, jak i złożone układy równań, korzystając z metod numerycznych i analitycznych.\n",
        "* układanie rozkładu jazdy,\\\n",
        "Sztuczna inteligencja posiadała by problemy układaniu rozkładu jazdy, ponieważ zwraca się uwagę na dużą ilość informacji, jak stworzyć plan pasujący dla społeczeństwa.\n",
        "* ***rozwiązywanie układów równań liniowych,***\\\n",
        "to zadanie matematyczne, które można w pełni zautomatyzować za pomocą algorytmów sztucznej inteligencji oraz metod numerycznych\n",
        "* ***symboliczne obliczanie pochodnych,***\\\n",
        "sztuczna inteligencja radzi sobie dobrze z symbolicznymi obliczeniami matematycznymi, w tym pochodnymi\n",
        "* symboliczne całkowanie.\\\n",
        "Ai bardzo dobrze radzi sobię z treściami matematycznymi.\n",
        "* kierowanie samochodem.\\\n",
        "Kierowanie samochodem wymaga dostosowania się do różnych sytuacji, w których wymagana jest bardzo szybka reakcja, której brakuje sztucznej inteligencji.\n",
        "\n",
        "#**ZAD 3.** **Które z poniższych rodzajów komunikacyjnego zachowania człowieka mogą być obecnie skutecznie imitowane przez sztuczne systemy (odpowiednio oprogramowanemaszyny):**  \n",
        "* rozmowa towarzyska,\\\n",
        "W rozmowie towarzyskiej trzeba rozpoznwać emocje, ironię, by  komunikacja i intencje była poprawnie odbierane.  \n",
        "* dyskusja polityczna,\\\n",
        "W dyskuji politycznej omawia się nowe sytuacje, które sztuczna inteligencja może nie mieć w swojej bazie danych.\n",
        "* ***dyskusja naukowa,***\\\n",
        "AI może uczestniczyć w dyskusjach naukowych na podstawie faktów i danych, zwłaszcza w dziedzinach, gdzie dostępne są dobrze zdefiniowane teorie i matematyczne formuły.\n",
        "* ***odpowiadanie na pytania klientów w telefonicznej infolinii,***\\\n",
        "Automatyczne systemy obsługi telefonicznej (IVR) oraz bardziej zaawansowane boty mogą skutecznie odpowiadać na proste pytania klientów, oferując informacje na temat usług, zamówień, czy rozwiązywania problemów technicznych.\n",
        "* ***odpowiadanie na pytania klientów w internetowej infolinii.***\\\n",
        "Chatboty i inne systemy AI stosowane w internetowych infoliniach są jednymi z najbardziej rozwiniętych i skutecznych form obsługi klienta. Mogą one automatycznie odpowiadać na szeroki wachlarz pytań, korzystając z baz wiedzy i analizy poprzednich rozmów, a w razie potrzeby przekierować do człowieka.\n",
        "\n",
        "#**ZAD 4.** **Do zadań skorzystaj z załączonej listy Chatbotów (Chatterbotów) lub znajdź własne.**\n",
        "1. Przeprowadź rozmowę z chatbotem. Spróbuj zdefiniować różnice pomiędzy\n",
        "botem udającym człowieka (przygotowywanym na test Turinga) a botem\n",
        "„asystentem, służącym”.\\\n",
        "Bot udający człowieka próbuje nie być rozpoznany przez test Turinga, skupia się na stworzeniu iluzji ludzkiej interakcji, natomiast bot \"asystent\" stosuje proste do rozpoznania odpowiedzi.\n",
        "\n",
        "2. Sprawdź dwa boty z obu z tych rodzajów na występowanie zachowań:\n",
        "Sprawdzane boty:\n",
        "A.GPT\n",
        "B.Ikea Czat Billie\n",
        "* opowiadanie żartów,\n",
        "* przytaczanie cytatów z twoich wypowiedzi, lub znanych osób,\n",
        "* nawiązywanie wypowiedzi do słów kluczowych,\n",
        "* zadawanie dużej liczby pytań,\n",
        "* powracanie do początku wypowiedzi, sekwencyjne powtarzanie,\n",
        "* zadawanie pytań powstających z twoich wypowiedzi,\n",
        "* odpowiadanie wymijająco, ogólnikowo,\n",
        "* częsta zmiana tematu rozmowy,\n",
        "* problemy z utrzymaniem wątków.\n",
        "\n",
        "3. Sporządź raport ze spostrzeżeń.\\\n",
        "Pierwszy bot wykazał się lepszymi wynikami w większości analizowanych kategorii, zwłaszcza w utrzymywaniu wątków i klarowności odpowiedzi. Drugi bot zmagał się z utrzymywaniem spójności i kontekstu rozmowy. Oba boty mają swoje mocne strony, jednak Bot A wydaje się bardziej przystosowany do prowadzenia konstruktywnych interakcji, a Bot B jest jednak zaprojektowany głównie do obsługi rutynowych zapytań klientów, takich jak sprawdzanie statusu zamówienia, udzielanie informacji o produktach.\n",
        "\n",
        "4. Na podstawie powyższych obserwacji, w grupie dwóch osób spróbujcie prze-\n",
        "widzieć zachowania dwóch rozmawiających ze sobą chatbotów (przepisując ich\n",
        "wzajemne odpowiedzi).\\\n",
        "Zaproponowanie rozmowy z botem, wklejając odpowiedzi innego bota, prowadzi (bez podawania tematu) do rozmów na temat AI, wymienianiem korzyści związanych ze sztuczną inteligencją oraz pojawią się tematy etyczne związane z ewentualnym zagrożeniem w strefie prywatności.\n",
        "5. Zdenerwuj bota 😊😊\\\n",
        "Czat A:Po nakazaniu botowi wcielenia się w rolę człowieka, w odpowiedzi na to co by go najbardzej denerwowało to słaby internet.\n",
        "Czat B: Czat Billie opóścił rozmowę po bezsensownych pytaniach.\n",
        "\n"
      ],
      "metadata": {
        "id": "CbYypElpG9fF"
      }
    },
    {
      "cell_type": "markdown",
      "source": [],
      "metadata": {
        "id": "RbWS5CZDzHqS"
      }
    }
  ]
}