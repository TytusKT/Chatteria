{
  "nbformat": 4,
  "nbformat_minor": 0,
  "metadata": {
    "colab": {
      "provenance": [],
      "authorship_tag": "ABX9TyO1brutiTMEjwOPz56GyMCb",
      "include_colab_link": true
    },
    "kernelspec": {
      "name": "python3",
      "display_name": "Python 3"
    },
    "language_info": {
      "name": "python"
    }
  },
  "cells": [
    {
      "cell_type": "markdown",
      "metadata": {
        "id": "view-in-github",
        "colab_type": "text"
      },
      "source": [
        "<a href=\"https://colab.research.google.com/github/TytusKT/Chatteria/blob/main/Zadania_na_zaliczenie.ipynb\" target=\"_parent\"><img src=\"https://colab.research.google.com/assets/colab-badge.svg\" alt=\"Open In Colab\"/></a>"
      ]
    },
    {
      "cell_type": "markdown",
      "source": [
        "**Zadania końcowe z Prologa**"
      ],
      "metadata": {
        "id": "ikMnpTzkp1_U"
      }
    },
    {
      "cell_type": "markdown",
      "source": [
        "**Zad.1 Drzewo genealogiczne**\n"
      ],
      "metadata": {
        "id": "EJZoztVTqTf7"
      }
    },
    {
      "cell_type": "code",
      "source": [
        "% Fakty\n",
        "ojciec(jan, anna).\n",
        "ojciec(jan, piotr).\n",
        "ojciec(jan, bartek).\n",
        "ojciec(piotr, jacek).\n",
        "ojciec(bartek, tomek).\n",
        "matka(maria, bartek).\n",
        "matka(maria, anna).\n",
        "matka(maria, piotr).\n",
        "matka(anna, hania).\n",
        "malzenstwo(jan, maria).\n",
        "mezczyzna(jan).\n",
        "mezczyzna(piotr).\n",
        "mezczyzna(jacek).\n",
        "mezczyzna(bartek).\n",
        "kobieta(maria).\n",
        "kobieta(anna).\n",
        "kobieta(hania).\n",
        "\n",
        "%Relacja rodzic\n",
        "rodzic(X, Y) :- ojciec(X, Y).\n",
        "rodzic(X, Y) :- matka(X, Y).\n",
        "\n",
        "%reguła przodek\n",
        "\n",
        "przodek(X, Y) :-\n",
        "    ojciec(X, Y);\n",
        "    matka(X, Y);\n",
        "    ojciec(X, Z),\n",
        "    rodzic(Z, Y);\n",
        "    matka(X, Z),\n",
        "    rodzic(Z, Y).\n",
        "\n",
        "%reguła brat\n",
        "\n",
        "brat(X, Y) :-\n",
        "    rodzic(Z, X),\n",
        "    rodzic(Z, Y),\n",
        "    mezczyzna(X),\n",
        "\tX \\= Y.\n",
        "\n",
        "%reguła siostra\n",
        "\n",
        "siostra(X, Y) :-\n",
        "    rodzic(Z, X),\n",
        "    rodzic(Z, Y),\n",
        "    kobieta(X),\n",
        "    X \\= Y.\n",
        "\n",
        "%reguła kuzyn\n",
        "\n",
        "kuzyn(X, Y) :-\n",
        "    rodzic(Z, X),\n",
        "    rodzic(C, Y),\n",
        "    brat(Z, C);\n",
        "    siostra(Z, C),\n",
        "    X \\= Y.\n",
        "\n",
        "%Przewidywane wyniki\n",
        "% przodek(jan, anna). % Oczekiwane: true\n",
        "% brat(piotr, anna). % Oczekiwane: true\n",
        "% kuzyn(X, piotr). % Oczekiwane: X = Y, gdzie Y to kuzyni Piotra"
      ],
      "metadata": {
        "id": "OV-6aIS6qfpM"
      },
      "execution_count": null,
      "outputs": []
    },
    {
      "cell_type": "code",
      "source": [],
      "metadata": {
        "id": "-Y09MTvJsSLb"
      },
      "execution_count": null,
      "outputs": []
    },
    {
      "cell_type": "markdown",
      "source": [
        "**Zad.2 System rezerwacji lotów**"
      ],
      "metadata": {
        "id": "b7lbQJd-qu1L"
      }
    },
    {
      "cell_type": "code",
      "source": [
        "% Fakty: Lotniska\n",
        "lotnisko(swidnik).\n",
        "lotnisko(warszawa).\n",
        "lotnisko(krakow).\n",
        "lotnisko(gdansk).\n",
        "lotnisko(wroclaw).\n",
        "lotnisko(tokio).\n",
        "lotnisko(paryz).\n",
        "\n",
        "% Fakty: Połączenia między lotniskami (początek, cel, koszt)\n",
        "polaczenie(swidnik, warszawa, 130).\n",
        "polaczenie(warszawa, krakow, 300).\n",
        "polaczenie(krakow, gdansk, 200).\n",
        "polaczenie(warszawa, gdansk, 500).\n",
        "polaczenie(krakow, poznan, 150).\n",
        "polaczenie(poznan, gdansk, 350).\n",
        "polaczenie(gdansk, paryz, 550).\n",
        "polaczenie(paryz, tokio, 2000).\n",
        "polaczenie(krakow, tokio, 3000).\n",
        "\n",
        "% Reguły\n",
        "\n",
        "% Bezpośrednie połączenie między lotniskami\n",
        "polaczenie(X, Y) :-\n",
        "    polaczenie(X, Y, _).\n",
        "\n",
        "%oczekiwane:?- polaczenie(warszawa, krakow). true\n",
        "\n",
        "% Znalezienie trasy i sumowanie kosztów między lotniskami\n",
        "sciezka(X, Y, [X, Y], C) :-\n",
        "    polaczenie(X, Y, C).\n",
        "sciezka(X, Y, [X | Trasa], C) :-  %[X | Trasa] oznacza, że X (aktualne lotnisko) jest dodawane na początek listy Trasa, która zostanie zbudowana przez kolejne wywołania.\n",
        "    polaczenie(X, Z, C1),         %\"|\"- pełni rolę rozdzielania pierwszego elementu listy od pozostałych elementów\n",
        "    sciezka(Z, Y, Trasa, C2),\n",
        "    C is C1 + C2.\n",
        "\n",
        "% Koszt podróży między lotniskami\n",
        "koszt_podrozy(X, Y, C) :-\n",
        "    sciezka(X, Y, _, C),\n",
        "    write('Koszt: '), write('C'), nl.\n",
        "\n",
        "%oczekiwane: koszt_podrozy(warszawa, gdansk, C).\n",
        "\n",
        "% Znalezienie najtańszej drogi\n",
        "najtansza_droga(X, Y, NajtanszaTrasa, NajmniejszyKoszt) :-\n",
        "    setof((Koszt, Trasa), sciezka(X, Y, Trasa, Koszt), WszystkieTrasy),\n",
        "    WszystkieTrasy = [(NajmniejszyKoszt, NajtanszaTrasa) | _].\n",
        "\n",
        "%setof Zbiera wszystkie możliwe pary (Koszt, Trasa) dla trasy z X do Y.(Zbiera wszystkie możliwe rozwiązania i zwraca unikalne, posortowane wyniki.)\n",
        "%oczekiwania: ?- najkrotsza_droga(warszawa, gdansk). pokazanie trasy i kosztów.\n",
        "\n",
        "najtansza_droga(X, Y) :-\n",
        "    najtansza_droga(X, Y, Trasa, Koszt),\n",
        "    write('Najtansza trasa: '), write(Trasa), nl,\n",
        "    write('Koszt: '), write(Koszt), nl.\n",
        "\n",
        "% Znalezienie najkrotszej drogi\n",
        "najkrotsza_droga(X, Y, NajkrotszaTrasa, Koszt) :-\n",
        "    setof((Dlugosc, Trasa, KosztTrasy),\n",
        "          (sciezka(X, Y, Trasa, KosztTrasy), length(Trasa, Dlugosc)),\n",
        "          WszystkieTrasy),\n",
        "    % Najkrótsza trasa to pierwsza w posortowanej liście (po liczbie przystanków)\n",
        "    WszystkieTrasy = [(Dlugosc, NajkrotszaTrasa, Koszt) | _].\n",
        "\n",
        "\n",
        "najkrotsza_droga(X, Y) :-\n",
        "    najkrotsza_droga(X, Y, NajkrotszaTrasa, Koszt),\n",
        "    write('Najkrotsza trasa: '), write(NajkrotszaTrasa), nl,\n",
        "    write('Koszt: '), write(Koszt), nl."
      ],
      "metadata": {
        "id": "cjOcgeU0q168"
      },
      "execution_count": null,
      "outputs": []
    },
    {
      "cell_type": "code",
      "source": [],
      "metadata": {
        "id": "LNewajJdsTzb"
      },
      "execution_count": null,
      "outputs": []
    },
    {
      "cell_type": "markdown",
      "source": [
        "**Zad.3 System zarządzania magazynem**"
      ],
      "metadata": {
        "id": "-rvVq7ldq-ML"
      }
    },
    {
      "cell_type": "code",
      "source": [
        ":- dynamic produkt/3.\n",
        "\n",
        "% Fakty (nazwa produktu, ilość, sektor magazynowy)\n",
        "produkt(tv, 10, sektor_a).\n",
        "produkt(pralka, 5, sektor_b).\n",
        "produkt(lodowka, 3, sektor_c).\n",
        "produkt(mikrofala, 0, sektor_b).\n",
        "produkt(radio, 1, sektor_d).\n",
        "\n",
        "% Sprawdzenie dostępności produktu\n",
        "dostepny_produkt(X) :-\n",
        "    produkt(X, Y, _),\n",
        "    Y > 0.\n",
        "\n",
        "% Przeniesienie produktu do innego sektora\n",
        "przenies_produkt(X, Z1) :-\n",
        "    produkt(X, Y, _),\n",
        "    retract(produkt(X, Y, _)),\n",
        "    assert(produkt(X, Y, Z1)),\n",
        "    write('produkt('), write(X), write(', '), write(Y), write(', '), write(Z1), write(')'), nl.\n",
        "\n",
        "%przykład: przenies_produkt(radio, sektor_c). -> produkt(radio, 1, sektor_c)\n",
        "\n",
        "uzupelnij_stan(X, N) :-\n",
        "    produkt(X, Y, Z),\n",
        "    Y1 is Y + N,\n",
        "    retract(produkt(X, Y, Z)),\n",
        "    assert(produkt(X, Y1, Z)),\n",
        "    write('produkt('), write(X), write(', '), write(Y1), write(', '), write(Z), write(')'), nl.\n",
        "\n",
        "%przykład: uzupelnij_stan(pralka, 3). -> produkt(pralka, 8, sektor_b)\n",
        "%\n",
        "%uzupelnij_stan(mikrofala, 3),\n",
        "%dostepny_produkt(mikrofala).\n",
        "\n",
        "%:- dynamic produkt/3 pozwala na dynamiczne modyfikowanie faktów w trakcie działania programu.\n",
        "%NewY is Y + N: Oblicza nową ilość, dodając N do aktualnej ilości Y.\n",
        "%retract(produkt(X, Y, Z)): Usuwa istniejący fakt o produkcie X.\n",
        "%assert(produkt(X, NewY, Z)): Dodaje nowy fakt z zaktualizowaną ilością."
      ],
      "metadata": {
        "id": "o0jpwkwprFm0"
      },
      "execution_count": null,
      "outputs": []
    },
    {
      "cell_type": "code",
      "source": [],
      "metadata": {
        "id": "ChTkO5Wyskm7"
      },
      "execution_count": null,
      "outputs": []
    },
    {
      "cell_type": "markdown",
      "source": [
        "**Zad.4 System planowania trasy kuriera**"
      ],
      "metadata": {
        "id": "nGc5w6VjrG8E"
      }
    },
    {
      "cell_type": "code",
      "source": [
        "miasto(warszawa).\n",
        "miasto(krakow).\n",
        "miasto(poznan).\n",
        "miasto(lublin).\n",
        "\n",
        "%Fakty (Od, Do, Czas)\n",
        "droga(warszawa, krakow, 4).\n",
        "droga(krakow, poznan, 3).\n",
        "droga(warszawa, poznan, 7).\n",
        "droga(lublin, warszawa, 4).\n",
        "droga(lublin, krakow, 6).\n",
        "droga(lublin, poznan, 9).\n",
        "\n",
        "% Sprawdzenie połączenia między miastami (kierunki dwukierunkowe)\n",
        "droga_c(X, Y) :-\n",
        "    droga(X, Y, _);\n",
        "    droga(Y, X, _).\n",
        "\n",
        "% Sprawdzenie czasu przejazdu między dwoma miastami\n",
        "czas_przejazdu(X, Y, T) :-\n",
        "    (droga(X, Y, T); droga(Y, X, T)),\n",
        "    write('Czas: '), write(T), write('h'), nl.\n",
        "\n",
        "% Połączenie między miastami z dodawanym czasem.\n",
        "sciezka(X, Y, [X, Y], C, _) :-\n",
        "    droga(X, Y, C);\n",
        "    droga(Y, X, C).\n",
        "\n",
        "sciezka(X, Y, [X | Trasa], C, Przejechane) :-\n",
        "    (droga(X, Z, C1); droga(Z, X, C1)),\n",
        "    \\+ member(Z, Przejechane),            % Upewnienie się, że Z nie było odwiedzone\n",
        "    sciezka(Z, Y, Trasa, C2, [Z | Przejechane]),\n",
        "    C is C1 + C2.\n",
        "\n",
        "% Najkrótsza trasa między miastami\n",
        "najkrotsza_trasa(X, Y, _, _) :-\n",
        "    X = Y, !, false.  % Jeśli miasto początkowe i końcowe są takie same daj false\n",
        "\n",
        "najkrotsza_trasa(X, Y, NajkrotszaTrasa, NajkrotszyCzas) :-\n",
        "    setof((Czas, Trasa),\n",
        "          sciezka(X, Y, Trasa, Czas, [X]), WszystkieTrasy),\n",
        "    WszystkieTrasy = [(NajkrotszyCzas, NajkrotszaTrasa) | _].\n",
        "\n",
        "najkrotsza_trasa(X, Y) :-\n",
        "    X = Y, !, false.\n",
        "\n",
        "najkrotsza_trasa(X, Y) :-\n",
        "    najkrotsza_trasa(X, Y, NajkrotszaTrasa, NajkrotszyCzas),\n",
        "    write('Najkrotsza trasa: '), write(NajkrotszaTrasa), nl,\n",
        "    write('Czas przejazdu: '), write(NajkrotszyCzas), write('h'), nl.\n",
        "\n",
        "%?- najkrotsza_trasa(warszawa, poznan). %Oczekiwany wynik: trasa przez Kraków, czas 7"
      ],
      "metadata": {
        "id": "z7m6QNt5rMOc"
      },
      "execution_count": null,
      "outputs": []
    },
    {
      "cell_type": "code",
      "source": [],
      "metadata": {
        "id": "Fu_J0_IEslCz"
      },
      "execution_count": null,
      "outputs": []
    },
    {
      "cell_type": "markdown",
      "source": [
        "**Zad.5 System rekomendacji książek**"
      ],
      "metadata": {
        "id": "wfg8lfUSrMiD"
      }
    },
    {
      "cell_type": "code",
      "source": [
        "% Fakty o książkach: tytuł, autor, gatunek\n",
        "ksiazka('W pustyni i w puszczy', sienkiewicz, przygodowa).\n",
        "ksiazka('Hobbit', tolkien, fantasy).\n",
        "ksiazka('Pan Tadeusz', mickiewicz, poezja).\n",
        "ksiazka('Romeo i Julia', shakespeare, dramat).\n",
        "ksiazka('Harry Potter', rowling, fantasy).\n",
        "\n",
        "% Oceny w skali 1-10\n",
        "ocena(uzytkownik1, 'W pustyni i w puszczy', 5).\n",
        "ocena(uzytkownik1, 'Hobbit', 9).\n",
        "ocena(uzytkownik1, 'Pan Tadeusz', 3).\n",
        "ocena(uzytkownik1, 'Romeo i Julia', 6).\n",
        "ocena(uzytkownik1, 'Harry Potter', 8).\n",
        "\n",
        "ocena(uzytkownik2, 'W pustyni i w puszczy', 7).\n",
        "ocena(uzytkownik2, 'Hobbit', 3).\n",
        "ocena(uzytkownik2, 'Pan Tadeusz', 9).\n",
        "ocena(uzytkownik2, 'Romeo i Julia', 8).\n",
        "ocena(uzytkownik2, 'Harry Potter', 6).\n",
        "\n",
        "% Preferencje użytkowników\n",
        "preferencje(uzytkownik1, fantasy).\n",
        "preferencje(uzytkownik2, poezja).\n",
        "\n",
        "polecane_ksiazki(Uzytkownik, Gatunek, ListaTytulow) :-\n",
        "    bagof(Tytul,\n",
        "          (preferencje(Uzytkownik, Gatunek),\n",
        "           ksiazka(Tytul, _, Gatunek),\n",
        "           ocena(Uzytkownik, Tytul, Ocena),\n",
        "           Ocena >= 7),\n",
        "          ListaTytulow).\n",
        "\n",
        "\n",
        "polecane_ksiazki_ogolnie(Uzytkownik, ListaTytulow) :-\n",
        "    bagof(Tytul,\n",
        "          (ksiazka(Tytul, _, _),\n",
        "           ocena(Uzytkownik, Tytul, Ocena),\n",
        "           Ocena >= 6),\n",
        "          ListaTytulow)."
      ],
      "metadata": {
        "id": "xfn85CTArTe7"
      },
      "execution_count": null,
      "outputs": []
    },
    {
      "cell_type": "code",
      "source": [],
      "metadata": {
        "id": "pdwvYXi7sleq"
      },
      "execution_count": null,
      "outputs": []
    },
    {
      "cell_type": "markdown",
      "source": [
        "**Dodatkowe zadania:**\n",
        "Ćwiczenie.2"
      ],
      "metadata": {
        "id": "Yb8VkaGDrXAc"
      }
    },
    {
      "cell_type": "code",
      "source": [
        "% 1. kobieta(X)\n",
        "% 2. ojciec(X,Y) – X jest ojcem Y\n",
        "% 3. matka(X,Y) – X jest matką Y\n",
        "% 4. corka(X,Y) – X jest córką Y\n",
        "% 5. brat_rodzony(X,Y) – X jest rodzonym bratem Y\n",
        "% 6. brat_przyrodni(X,Y) – X jest przyrodnim bratem Y\n",
        "% 7. kuzyn(X,Y) – X jest kuzynem Y\n",
        "% 8. dziadek_od_strony_ojca(X,Y) – X jest dziadkiem od strony ojca dla Y\n",
        "% 9. babcia(X,Y) – X jest babcią Y\n",
        "%12. wnuczka(X,Y) – Y jest wnuczką X\n",
        "%13. przodek_do2pokolenia_wstecz(X,Y) – X jest przodkiem Y do drugiego pokolenia wstecz\n",
        "%14. przodek_do3pokolenia_wstecz(X,Y) - X jest przodkiem Y do trzeciego pokolenia wstecz\n",
        "\n",
        "% Fakty\n",
        "\n",
        "rodzic(jan, anna).\n",
        "rodzic(jan, piotr).\n",
        "rodzic(jan, bartek).\n",
        "rodzic(maria, anna).\n",
        "rodzic(maria, piotr).\n",
        "rodzic(maria, bartek).\n",
        "rodzic(anna, basia).\n",
        "rodzic(damian, basia).\n",
        "rodzic(hania, jacek).\n",
        "rodzic(piotr, jacek).\n",
        "rodzic(bartek, tomek).\n",
        "rodzic(ela, tomek).\n",
        "\n",
        "mezczyzna(jan).\n",
        "mezczyzna(piotr).\n",
        "mezczyzna(jacek).\n",
        "mezczyzna(bartek).\n",
        "mezczyzna(tomek).\n",
        "mezczyzna(damian).\n",
        "\n",
        "\n",
        "osoba(jan).\n",
        "osoba(anna).\n",
        "osoba(piotr).\n",
        "osoba(bartek).\n",
        "osoba(maria).\n",
        "osoba(hania).\n",
        "osoba(jacek).\n",
        "osoba(ela).\n",
        "osoba(tomek).\n",
        "osoba(basia).\n",
        "osoba(damian).\n",
        "\n",
        "% Reguły\n",
        "\n",
        "% 1. kobieta(X)\n",
        "kobieta(X) :-\n",
        "    osoba(X),\n",
        "    \\+ mezczyzna(X).\n",
        "\n",
        "% 2. ojciec(X,Y): X jest ojcem Y\n",
        "ojciec(X, Y) :-\n",
        "    rodzic(X, Y),\n",
        "    mezczyzna(X).\n",
        "\n",
        "% 3. matka(X, Y): X jest matką Y\n",
        "matka(X, Y) :-\n",
        "    rodzic(X, Y),\n",
        "    \\+ mezczyzna(X).\n",
        "\n",
        "% 4. corka(X, Y): X jest córką Y\n",
        "corka(X, Y) :-\n",
        "    rodzic(Y, X),\n",
        "    \\+ mezczyzna(X).\n",
        "\n",
        "% 5. brat_rodzony(X, Y): X jest rodzonym bratem Y\n",
        "brat_rodzony(X, Y) :-\n",
        "    rodzic(Z, X),\n",
        "    rodzic(Z, Y),\n",
        "    X \\= Y,\n",
        "    mezczyzna(X).\n",
        "\n",
        "% 6. brat_przyrodni(X, Y): X jest przyrodnim bratem Y\n",
        "brat_przyrodni(X, Y) :-\n",
        "    rodzic(Z, X),\n",
        "    rodzic(W, Y),\n",
        "    Z \\= W,\n",
        "    mezczyzna(X),\n",
        "    X \\= Y.\n",
        "\n",
        "% 7. kuzyn(X, Y): X jest kuzynem Y\n",
        "kuzyn(X, Y) :-\n",
        "    rodzic(A, X),\n",
        "    rodzic(B, Y),\n",
        "    brat_rodzony(A, B).\n",
        "\n",
        "% 8. dziadek_od_strony_ojca(X, Y): X jest dziadkiem od strony ojca dla Y\n",
        "dziadek_od_strony_ojca(X, Y) :-\n",
        "    ojciec(X, Z),\n",
        "    ojciec(Z, Y).\n",
        "\n",
        "% 9. dziadek_od_strony_matki(X, Y): X jest dziadkiem od strony matki dla Y\n",
        "dziadek_od_strony_matki(X, Y) :-\n",
        "    ojciec(X, Z),\n",
        "    matka(Z, Y).\n",
        "\n",
        "% 10. dziadek(X, Y): X jest dziadkiem Y\n",
        "dziadek(X, Y) :-\n",
        "    ojciec(X, Z),\n",
        "    rodzic(Z, Y).\n",
        "\n",
        "% 11. babcia(X, Y): X jest babcią Y\n",
        "babcia(X, Y) :-\n",
        "    matka(X, Z),\n",
        "    rodzic(Z, Y).\n",
        "\n",
        "% 12. wnuczka(X, Y): Y jest wnuczką X\n",
        "wnuczka(X, Y) :-\n",
        "    rodzic(X, Z),\n",
        "    rodzic(Z, Y),\n",
        "    \\+ mezczyzna(X).\n",
        "\n",
        "\n",
        "\n",
        "% 14. przodek_do2pokolenia_wstecz(X, Y): X jest przodkiem Y do drugiego pokolenia wstecz\n",
        "przodek_do2pokolenia_wstecz(X, Y) :-\n",
        "    rodzic(X, Y);\n",
        "    rodzic(X, Z),\n",
        "    rodzic(Z, Y).\n",
        "\n",
        "% 14. przodek_do3pokolenia_wstecz(X, Y): X jest przodkiem Y do trzeciego pokolenia wstecz\n",
        "przodek_do3pokolenia_wstecz(X, Y) :-\n",
        "    rodzic(X, Y);\n",
        "    rodzic(X, Z),\n",
        "    rodzic(Z, Y);\n",
        "    rodzic(X, Z),\n",
        "    rodzic(Z, W),\n",
        "    rodzic(W, Y)."
      ],
      "metadata": {
        "id": "HGRWGL6RrojM"
      },
      "execution_count": null,
      "outputs": []
    },
    {
      "cell_type": "code",
      "source": [],
      "metadata": {
        "id": "L7eCOmSgsmEy"
      },
      "execution_count": null,
      "outputs": []
    }
  ]
}